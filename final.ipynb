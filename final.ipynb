{
  "nbformat": 4,
  "nbformat_minor": 5,
  "metadata": {
    "kernelspec": {
      "display_name": "Python 3",
      "language": "python",
      "name": "python3"
    },
    "language_info": {
      "codemirror_mode": {
        "name": "ipython",
        "version": 3
      },
      "file_extension": ".py",
      "mimetype": "text/x-python",
      "name": "python",
      "nbconvert_exporter": "python",
      "pygments_lexer": "ipython3",
      "version": "3.9.1"
    },
    "colab": {
      "name": "final.ipynb",
      "provenance": [],
      "collapsed_sections": [],
      "toc_visible": true,
      "include_colab_link": true
    }
  },
  "cells": [
    {
      "cell_type": "markdown",
      "metadata": {
        "id": "view-in-github",
        "colab_type": "text"
      },
      "source": [
        "<a href=\"https://colab.research.google.com/github/RyanAntioch/engg3130_final/blob/ryan/final.ipynb\" target=\"_parent\"><img src=\"https://colab.research.google.com/assets/colab-badge.svg\" alt=\"Open In Colab\"/></a>"
      ]
    },
    {
      "cell_type": "markdown",
      "metadata": {
        "id": "48DvwzlSj4LL"
      },
      "source": [
        "# To Implement:\n",
        "\n",
        "## Agents\n",
        "\n",
        "*   infection\n",
        "  - state attribute (Healthy, exposed, infected, recovered)\n",
        "    - recovery after certain time steps or other factor when thought of\n",
        "  - immunocompromised and older agents more likely to get infected\n",
        "  - front line worker/types of employment ( more attracted to sugar piles)\n",
        "\n",
        "*   Move sugar piles (make capacity) \n",
        "  - can we make more and smaller\n",
        "\n",
        "\n",
        "## Behaviour\n",
        "\n",
        "*   agents within a ditance of neighbours they will contract the virus with a probability associated to their antibodies variables\n",
        "\n",
        "*   introduce infected and uninfected agents\n",
        "  - \"introduction of people from outside area\"\n",
        "\n",
        "### Restrictions\n",
        "\n",
        "*   agents should move away from one another\n",
        "  - psuedo implemented (look_and_move_2)\n",
        "\n",
        "*   stay in place\n",
        "\n",
        "*   masks\n",
        "    - increase to the antibodies\n",
        "    - antimasker\n",
        "\n",
        "*   vaccine\n",
        "    - every step could increase the \n",
        "\n"
      ],
      "id": "48DvwzlSj4LL"
    },
    {
      "cell_type": "markdown",
      "metadata": {
        "id": "needed-emperor"
      },
      "source": [
        "# Final Project"
      ],
      "id": "needed-emperor"
    },
    {
      "cell_type": "code",
      "metadata": {
        "id": "balanced-retreat"
      },
      "source": [
        "%matplotlib inline\n",
        "\n",
        "import matplotlib.pyplot as plt\n",
        "import numpy as np\n",
        "import seaborn as sns\n",
        "from utils import decorate, savefig\n",
        "\n",
        "from scipy.signal import correlate2d\n",
        "from Cell2D import Cell2D, draw_array\n",
        "\n",
        "from matplotlib.colors import LinearSegmentedColormap\n",
        "\n",
        "# make a custom color map\n",
        "palette = sns.color_palette('muted')\n",
        "colors = 'white', palette[1], palette[0]\n",
        "cmap = LinearSegmentedColormap.from_list('cmap', colors)"
      ],
      "id": "balanced-retreat",
      "execution_count": null,
      "outputs": []
    },
    {
      "cell_type": "markdown",
      "metadata": {
        "id": "continent-leather"
      },
      "source": [
        "## make_locs"
      ],
      "id": "continent-leather"
    },
    {
      "cell_type": "code",
      "metadata": {
        "id": "refined-spirituality"
      },
      "source": [
        "def make_locs(n, m):\n",
        "    \"\"\"Makes array where each row is an index in an `n` by `m` grid.\n",
        "    \n",
        "    n: int number of rows\n",
        "    m: int number of cols\n",
        "    \n",
        "    returns: NumPy array\n",
        "    \"\"\"\n",
        "    t = [(i, j) for i in range(n) for j in range(m)]\n",
        "    return np.array(t)"
      ],
      "id": "refined-spirituality",
      "execution_count": null,
      "outputs": []
    },
    {
      "cell_type": "markdown",
      "metadata": {
        "id": "zmR7v1RUcb9F"
      },
      "source": [
        "## make_visibile_locs"
      ],
      "id": "zmR7v1RUcb9F"
    },
    {
      "cell_type": "code",
      "metadata": {
        "id": "split-journey"
      },
      "source": [
        "def make_visible_locs(vision):\n",
        "    \"\"\"Computes the kernel of visible cells.\n",
        "        \n",
        "    vision: int distance\n",
        "    \"\"\"\n",
        "    def make_array(d):\n",
        "        \"\"\"Generates visible cells with increasing distance.\"\"\"\n",
        "        a = np.array([[-d, 0], [d, 0], [0, -d], [0, d]])\n",
        "        np.random.shuffle(a)\n",
        "        return a\n",
        "                     \n",
        "    arrays = [make_array(d) for d in range(1, vision+1)]\n",
        "    return np.vstack(arrays)"
      ],
      "id": "split-journey",
      "execution_count": null,
      "outputs": []
    },
    {
      "cell_type": "code",
      "metadata": {
        "id": "grand-anger"
      },
      "source": [
        "def distances_from(n, i, j):\n",
        "    \"\"\"Computes an array of distances.\n",
        "    \n",
        "    n: size of the array\n",
        "    i, j: coordinates to find distance from\n",
        "    \n",
        "    returns: array of float\n",
        "    \"\"\"\n",
        "    X, Y = np.indices((n, n))\n",
        "    return np.hypot(X-i, Y-j)"
      ],
      "id": "grand-anger",
      "execution_count": null,
      "outputs": []
    },
    {
      "cell_type": "markdown",
      "metadata": {
        "id": "selected-north"
      },
      "source": [
        "p = 3 for number of immunocompromised agents"
      ],
      "id": "selected-north"
    },
    {
      "cell_type": "code",
      "metadata": {
        "id": "rolled-scoop"
      },
      "source": [
        "class Antigen(Cell2D):\n",
        "    \"\"\"Represents an Epstein-Axtell Sugarscape.\"\"\"\n",
        "    \n",
        "    def __init__(self, n, **params):\n",
        "        \"\"\"Initializes the attributes.\n",
        "\n",
        "        n: number of rows and columns\n",
        "        params: dictionary of parameters\n",
        "        \"\"\"\n",
        "        self.n = n\n",
        "        self.params = params\n",
        "        \n",
        "        avoid = params.get(\"avoid\", 0)\n",
        "        \n",
        "        self.avoid = avoid\n",
        "        \n",
        "        # track variables\n",
        "        self.agent_count_seq = []\n",
        "    \n",
        "        # make the capacity array\n",
        "        self.capacity = self.make_capacity()\n",
        "        \n",
        "        # initially all cells are at capacity\n",
        "        self.array = self.capacity.copy()\n",
        "        \n",
        "        # make the agents\n",
        "        self.make_agents()\n",
        "        \n",
        "    def make_capacity(self):\n",
        "        \"\"\"Makes the capacity array.\"\"\"\n",
        "        \n",
        "        # compute the distance of each cell from the peaks. \n",
        "        dist1 = distances_from(self.n, 50, 50)\n",
        "        dist2 = distances_from(self.n, 35, 35)\n",
        "        dist3 = distances_from(self.n, 5, 5)\n",
        "        dist = np.minimum(dist1, dist2, dist3)\n",
        "        \n",
        "        # cells in the capacity array are set according to dist from peak\n",
        "        bins = [21, 16, 11, 6]\n",
        "        a = np.digitize(dist, bins)\n",
        "        return a\n",
        "        \n",
        "    def make_agents(self):\n",
        "        \"\"\"Makes the agents.\"\"\"\n",
        "        \n",
        "        # determine where the agents start and generate locations\n",
        "        n, m = self.params.get('starting_box', self.array.shape)\n",
        "        locs = make_locs(n, m)\n",
        "        np.random.shuffle(locs)\n",
        "\n",
        "        # make the agents\n",
        "        num_agents = self.params.get('num_agents', 400)\n",
        "        assert(num_agents <= len(locs))\n",
        "        self.agents = [Agent(locs[i], self.params) \n",
        "                       for i in range(num_agents)]\n",
        "        \n",
        "        # keep track of which cells are occupied\n",
        "        self.occupied = set(agent.loc for agent in self.agents)\n",
        "            \n",
        "    def grow(self):\n",
        "        \"\"\"Adds sugar to all cells and caps them by capacity.\"\"\"\n",
        "        grow_rate = self.params.get('grow_rate', 1)\n",
        "        self.array = np.minimum(self.array + grow_rate, self.capacity)\n",
        "        \n",
        "    def look_and_move(self, center, vision):\n",
        "        \"\"\"Finds the visible cell with the most sugar.\n",
        "        \n",
        "        center: tuple, coordinates of the center cell\n",
        "        vision: int, maximum visible distance\n",
        "        \n",
        "        returns: tuple, coordinates of best cell\n",
        "        \"\"\"\n",
        "        # find all visible cells\n",
        "        locs = make_visible_locs(vision)\n",
        "        locs = (locs + center) % self.n\n",
        "        \n",
        "        # convert rows of the array to tuples\n",
        "        locs = [tuple(loc) for loc in locs]\n",
        "        \n",
        "        # select unoccupied cells\n",
        "        empty_locs = [loc for loc in locs if loc not in self.occupied]\n",
        "        \n",
        "        # if all visible cells are occupied, stay put\n",
        "        if len(empty_locs) == 0:\n",
        "            return center\n",
        "        \n",
        "        # look up the sugar level in each cell\n",
        "        t = [self.array[loc] for loc in empty_locs]\n",
        "        \n",
        "        # find the best one and return it\n",
        "        # (in case of tie, argmax returns the first, which\n",
        "        # is the closest)\n",
        "        \n",
        "        if self.avoid == 0:\n",
        "            i = np.argmax(t)\n",
        "        else:\n",
        "            i = np.argmin(t)\n",
        "        \n",
        "        return empty_locs[i]\n",
        "    \n",
        "    def look_and_move_2(self, center, vision):\n",
        "        \"\"\"Finds the visible cell with the most sugar.\n",
        "        \n",
        "        center: tuple, coordinates of the center cell\n",
        "        vision: int, maximum visible distance\n",
        "        \n",
        "        returns: tuple, coordinates of best cell\n",
        "        \"\"\"\n",
        "        # find all visible cells\n",
        "        locs = make_visible_locs(vision)\n",
        "        locs = (locs + center) % self.n\n",
        "        \n",
        "        # convert rows of the array to tuples\n",
        "        locs = [tuple(loc) for loc in locs]\n",
        "        \n",
        "        # select occupied cells\n",
        "        occupied_locs = [loc for loc in locs if loc in self.occupied]\n",
        "        empty_locs = [loc for loc in locs if loc not in self.occupied]\n",
        "        \n",
        "        for loc in occupied_locs:\n",
        "            vector_x = center[0] - loc[0]\n",
        "            vector_y = center[1] - loc[1]\n",
        "            vector_occupied = np.sqrt((vector_x)**2 +  (vector_y)**2)\n",
        "        \n",
        "        for loc in empty_locs:\n",
        "            vector_x = center[0] - loc[0]\n",
        "            vector_y = center[1] - loc[1]\n",
        "            vector_empty = np.sqrt((vector_x)**2 +  (vector_y)**2) #currently moving to furthest empty loc, need it to be furtherst away from occupied cells\n",
        "        \n",
        "        \n",
        "        # if all visible cells are occupied, move\n",
        "        if len(empty_locs) == 0:            \n",
        "            return center\n",
        "        \n",
        "        i = np.argmax(vector_empty)\n",
        "        \n",
        "        return empty_locs[i]\n",
        "    \n",
        "    def harvest(self, loc):\n",
        "        \"\"\"Removes and returns the sugar from `loc`.\n",
        "        \n",
        "        loc: tuple coordinates\n",
        "        \"\"\"\n",
        "        sugar = self.array[loc]\n",
        "        self.array[loc] = 0\n",
        "        return sugar\n",
        "    \n",
        "    # how will we go about infection\n",
        "    \n",
        "    def step(self):\n",
        "        \"\"\"Executes one time step.\"\"\"\n",
        "        replace = self.params.get('replace', False)\n",
        "        \n",
        "        # loop through the agents in random order\n",
        "        random_order = np.random.permutation(self.agents)\n",
        "        for agent in random_order:\n",
        "            \n",
        "            # mark the current cell unoccupied\n",
        "            self.occupied.remove(agent.loc)\n",
        "            \n",
        "            # execute one step\n",
        "            agent.step(self)\n",
        "\n",
        "            # if the agent is dead, remove from the list\n",
        "            if agent.is_starving() or agent.is_old():\n",
        "                self.agents.remove(agent)\n",
        "                if replace:\n",
        "                    self.add_agent()\n",
        "            else:\n",
        "                # otherwise mark its cell occupied\n",
        "                self.occupied.add(agent.loc)\n",
        "\n",
        "        # update the time series\n",
        "        self.agent_count_seq.append(len(self.agents))\n",
        "        \n",
        "        # grow back some sugar\n",
        "        self.grow()\n",
        "        return len(self.agents)\n",
        "    \n",
        "    def add_agent(self):\n",
        "        \"\"\"Generates a new random agent.\n",
        "                \n",
        "        returns: new Agent\n",
        "        \"\"\"\n",
        "        new_agent = Agent(self.random_loc(), self.params)\n",
        "        self.agents.append(new_agent)\n",
        "        self.occupied.add(new_agent.loc)\n",
        "        return new_agent\n",
        "    \n",
        "    def random_loc(self):\n",
        "        \"\"\"Choose a random unoccupied cell.\n",
        "        \n",
        "        returns: tuple coordinates\n",
        "        \"\"\"\n",
        "        while True:\n",
        "            loc = tuple(np.random.randint(self.n, size=2))\n",
        "            if loc not in self.occupied:\n",
        "                return loc\n",
        "\n",
        "    def draw(self):\n",
        "        \"\"\"Draws the cells.\"\"\"\n",
        "        draw_array(self.array, cmap='YlOrRd', vmax=9, origin='lower')\n",
        "        \n",
        "        # draw the agents\n",
        "        xs, ys = self.get_coords()\n",
        "        self.points = plt.plot(xs, ys, '.', color='red')[0]\n",
        "    \n",
        "    def get_coords(self):\n",
        "        \"\"\"Gets the coordinates of the agents.\n",
        "        \n",
        "        Transforms from (row, col) to (x, y).\n",
        "        \n",
        "        returns: tuple of sequences, (xs, ys)\n",
        "        \"\"\"\n",
        "        agents = self.agents\n",
        "        rows, cols = np.transpose([agent.loc for agent in agents])\n",
        "        xs = cols + 0.5\n",
        "        ys = rows + 0.5\n",
        "        return xs, ys"
      ],
      "id": "rolled-scoop",
      "execution_count": null,
      "outputs": []
    },
    {
      "cell_type": "code",
      "metadata": {
        "id": "secure-glance"
      },
      "source": [
        "class Agent:\n",
        "    \n",
        "    def __init__(self, loc, params):\n",
        "        \"\"\"Creates a new agent at the given location.\n",
        "        \n",
        "        loc: tuple coordinates\n",
        "        params: dictionary of parameters\n",
        "        \"\"\"\n",
        "        n=50\n",
        "        q=0.3\n",
        "        \n",
        "        self.loc = tuple(loc)\n",
        "        self.age = 0\n",
        "        \n",
        "        # extract the parameters\n",
        "        max_vision = params.get('max_vision', 6)\n",
        "        max_serotonin = params.get('max_serotinin', 4)\n",
        "        \n",
        "        max_antibodies = params.get('max_antibodies', 100)\n",
        "        \n",
        "        min_lifespan = params.get('min_lifespan', 10)\n",
        "        max_lifespan = params.get('max_lifespan', 100)\n",
        "        \n",
        "        min_sugar = params.get('min_sugar', 5)\n",
        "        max_sugar = params.get('max_sugar', 25)\n",
        "        \n",
        "        exposure = 0;\n",
        "        \n",
        "        q = params.get('q', 0.03)\n",
        "        immunocompromised =  np.random.choice([1, 0], p=[q, 1-q]) #impletment as part of infection\n",
        "        \n",
        "        r = params.get('r', 0.3)\n",
        "        likeihood_to_leave =  np.random.choice([1, 0], p=[r, 1-r]) #implement with movement\n",
        "        \n",
        "        # choose attributes\n",
        "        self.vision = max_vision;\n",
        "        #self.vision = np.random.randint(1, max_vision+1)\n",
        "        self.serotonin = np.random.uniform(1, max_serotonin)\n",
        "        self.lifespan = np.random.uniform(min_lifespan, max_lifespan)\n",
        "        self.sugar = np.random.uniform(min_sugar, max_sugar)\n",
        "        \n",
        "        self.immunocompromised = immunocompromised\n",
        "        self.antibodies = np.random.uniform(1, max_antibodies)\n",
        "        self.exposure = exposure\n",
        "        \n",
        "    def step(self, env):\n",
        "        \"\"\"Look around, move, and harvest.\n",
        "        \n",
        "        env: Sugarscape\n",
        "        \"\"\"\n",
        "        self.loc = env.look_and_move(self.loc, self.vision)\n",
        "        self.loc = env.look_and_move_2(self.loc, self.vision)\n",
        "        self.sugar += env.harvest(self.loc)\n",
        "        self.age += 1\n",
        "        \n",
        "        # if agents is within vision, exposure = 1\n",
        "        # if agent is immunocompromised 100% chance of infection\n",
        "        # else \n",
        "\n",
        "    def is_starving(self):\n",
        "        \"\"\"Checks if sugar has gone negative.\"\"\"\n",
        "        return self.sugar < 0\n",
        "    \n",
        "    def is_old(self):\n",
        "        \"\"\"Checks if lifespan is exceeded.\"\"\"\n",
        "        return self.age > self.lifespan"
      ],
      "id": "secure-glance",
      "execution_count": null,
      "outputs": []
    },
    {
      "cell_type": "code",
      "metadata": {
        "id": "apparent-smart",
        "colab": {
          "base_uri": "https://localhost:8080/",
          "height": 252
        },
        "outputId": "e8c1f49c-bf19-4ffe-886f-5da2537f3902"
      },
      "source": [
        "env = Antigen(100, num_agents=200, replace = True, starting_box=(20,20), avoid = 1)\n",
        "env.draw()"
      ],
      "id": "apparent-smart",
      "execution_count": null,
      "outputs": [
        {
          "output_type": "display_data",
          "data": {
            "image/png": "[encoded data removed]",
            "text/plain": [
              "<Figure size 432x288 with 1 Axes>"
            ]
          },
          "metadata": {
            "tags": []
          }
        }
      ]
    },
    {
      "cell_type": "code",
      "metadata": {
        "id": "dynamic-vintage",
        "colab": {
          "base_uri": "https://localhost:8080/",
          "height": 252
        },
        "outputId": "6a13d40c-2b0f-41f6-85ee-800a56f51f0d"
      },
      "source": [
        "env.animate(frames=100)"
      ],
      "id": "dynamic-vintage",
      "execution_count": null,
      "outputs": [
        {
          "output_type": "display_data",
          "data": {
            "image/png": "[encoded data removed]",
            "text/plain": [
              "<Figure size 432x288 with 1 Axes>"
            ]
          },
          "metadata": {
            "tags": []
          }
        }
      ]
    },
    {
      "cell_type": "code",
      "metadata": {
        "id": "ignored-hello"
      },
      "source": [
        ""
      ],
      "id": "ignored-hello",
      "execution_count": null,
      "outputs": []
    },
    {
      "cell_type": "code",
      "metadata": {
        "id": "explicit-kuwait"
      },
      "source": [
        ""
      ],
      "id": "explicit-kuwait",
      "execution_count": null,
      "outputs": []
    }
  ]
}